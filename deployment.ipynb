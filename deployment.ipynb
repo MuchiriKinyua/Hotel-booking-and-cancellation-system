{
 "cells": [
  {
   "cell_type": "code",
   "execution_count": 12,
   "id": "f107706a",
   "metadata": {},
   "outputs": [],
   "source": [
    "import json\n",
    "import pickle\n",
    "import warnings\n",
    "from tensorflow import keras\n",
    "from keras import models\n",
    "warnings.filterwarnings(\"ignore\")\n",
    "from flask import Flask, request, jsonify\n",
    "from sklearn.metrics import confusion_matrix\n",
    "from sklearn.ensemble import RandomForestClassifier\n",
    "from sklearn.ensemble import GradientBoostingClassifier"
   ]
  },
  {
   "cell_type": "code",
   "execution_count": 9,
   "id": "98ab7e44-a91e-4b3b-9fea-a3e40720c446",
   "metadata": {},
   "outputs": [],
   "source": [
    "with open(\"Models/gradient_boost_model.pkl\", \"rb\") as file:\n",
    "    gradient_boost_data = pickle.load(file)"
   ]
  },
  {
   "cell_type": "code",
   "execution_count": 18,
   "id": "af154906",
   "metadata": {},
   "outputs": [
    {
     "data": {
      "text/plain": [
       "<keras.src.engine.sequential.Sequential at 0x7f85a8648b50>"
      ]
     },
     "execution_count": 18,
     "metadata": {},
     "output_type": "execute_result"
    }
   ],
   "source": [
    "model = keras.models.load_model(\"keras_model.h5\")\n",
    "model"
   ]
  },
  {
   "cell_type": "code",
   "execution_count": 17,
   "id": "acebbd4c-2ed5-49ac-9b90-9d94363fceed",
   "metadata": {},
   "outputs": [
    {
     "data": {
      "text/plain": [
       "<keras.src.engine.sequential.Sequential at 0x7f85a8648e50>"
      ]
     },
     "execution_count": 17,
     "metadata": {},
     "output_type": "execute_result"
    }
   ],
   "source": []
  },
  {
   "cell_type": "code",
   "execution_count": null,
   "id": "e6066c9f",
   "metadata": {},
   "outputs": [],
   "source": [
    "with open(\"random_forest_model.pkl\", \"rb\") as file:\n",
    "    random_forest_data = pickle.load(file)"
   ]
  },
  {
   "cell_type": "code",
   "execution_count": null,
   "id": "deddb084",
   "metadata": {},
   "outputs": [],
   "source": [
    "# Assuming you have loaded your Gradient Boosting and Random Forest models\n",
    "# Replace these placeholders with your actual models\n",
    "gradient_boosting_model = None\n",
    "random_forest_model = None\n",
    "\n",
    "# Your prediction function\n",
    "def hotel_prediction(features, model):\n",
    "    # Replace this with your actual prediction logic\n",
    "    # It should take the features and return the prediction\n",
    "    # Example:\n",
    "    # prediction = model.predict(features)\n",
    "    prediction = \"Replace with actual prediction logic\"\n",
    "    return {\"prediction\": prediction}\n",
    "\n",
    "# Routes\n",
    "@app.route('/', methods=['GET'])\n",
    "def index():\n",
    "    return 'Hello, welcome to Hotel booking platform'\n",
    "\n",
    "@app.route('/predict_gradient_boosting', methods=['POST'])\n",
    "def predict_gradient_boosting():\n",
    "    try:\n",
    "        # Get the request data from the user in JSON format\n",
    "        request_json = request.get_json()\n",
    "\n",
    "        # Send it to the Gradient Boosting prediction function\n",
    "        result = hotel_prediction(request_json[\"features\"], gradient_boosting_model)\n",
    "\n",
    "        # Return the result as a JSON response\n",
    "        return jsonify(result)\n",
    "\n",
    "    except Exception as e:\n",
    "        return jsonify({'error': str(e)})\n",
    "\n",
    "@app.route('/predict_random_forest', methods=['POST'])\n",
    "def predict_random_forest():\n",
    "    try:\n",
    "        # Get the request data from the user in JSON format\n",
    "        request_json = request.get_json()\n",
    "\n",
    "        # Send it to the Random Forest prediction function\n",
    "        result = hotel_prediction(request_json[\"features\"], random_forest_model)\n",
    "\n",
    "        # Return the result as a JSON response\n",
    "        return jsonify(result)\n",
    "\n",
    "    except Exception as e:\n",
    "        return jsonify({'error': str(e)})\n",
    "\n",
    "if _name_ == '_main_':\n",
    "    app.run(debug=True)"
   ]
  }
 ],
 "metadata": {
  "kernelspec": {
   "display_name": "Python (learn-env)",
   "language": "python",
   "name": "learn-env"
  },
  "language_info": {
   "codemirror_mode": {
    "name": "ipython",
    "version": 3
   },
   "file_extension": ".py",
   "mimetype": "text/x-python",
   "name": "python",
   "nbconvert_exporter": "python",
   "pygments_lexer": "ipython3",
   "version": "3.10.11"
  }
 },
 "nbformat": 4,
 "nbformat_minor": 5
}
