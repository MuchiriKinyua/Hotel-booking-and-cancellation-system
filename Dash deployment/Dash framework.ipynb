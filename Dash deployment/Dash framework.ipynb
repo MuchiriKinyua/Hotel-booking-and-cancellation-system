{
 "cells": [
  {
   "cell_type": "code",
   "execution_count": 17,
   "id": "31def00f-8095-4916-8440-ecb20f531305",
   "metadata": {},
   "outputs": [],
   "source": [
    "import dash\n",
    "import pickle\n",
    "import joblib\n",
    "import warnings\n",
    "import numpy as np\n",
    "from dash import html\n",
    "from keras import models\n",
    "from tensorflow import keras\n",
    "warnings.filterwarnings(\"ignore\")\n",
    "import dash_core_components as dcc\n",
    "import dash_html_components as html\n",
    "import dash_bootstrap_components as dbc\n",
    "from dash.dependencies import Input, Output"
   ]
  },
  {
   "cell_type": "code",
   "execution_count": 8,
   "id": "c15cc331-68d7-4bcc-b680-6f86fca0d597",
   "metadata": {},
   "outputs": [
    {
     "data": {
      "text/html": [
       "<style>#sk-container-id-2 {color: black;background-color: white;}#sk-container-id-2 pre{padding: 0;}#sk-container-id-2 div.sk-toggleable {background-color: white;}#sk-container-id-2 label.sk-toggleable__label {cursor: pointer;display: block;width: 100%;margin-bottom: 0;padding: 0.3em;box-sizing: border-box;text-align: center;}#sk-container-id-2 label.sk-toggleable__label-arrow:before {content: \"▸\";float: left;margin-right: 0.25em;color: #696969;}#sk-container-id-2 label.sk-toggleable__label-arrow:hover:before {color: black;}#sk-container-id-2 div.sk-estimator:hover label.sk-toggleable__label-arrow:before {color: black;}#sk-container-id-2 div.sk-toggleable__content {max-height: 0;max-width: 0;overflow: hidden;text-align: left;background-color: #f0f8ff;}#sk-container-id-2 div.sk-toggleable__content pre {margin: 0.2em;color: black;border-radius: 0.25em;background-color: #f0f8ff;}#sk-container-id-2 input.sk-toggleable__control:checked~div.sk-toggleable__content {max-height: 200px;max-width: 100%;overflow: auto;}#sk-container-id-2 input.sk-toggleable__control:checked~label.sk-toggleable__label-arrow:before {content: \"▾\";}#sk-container-id-2 div.sk-estimator input.sk-toggleable__control:checked~label.sk-toggleable__label {background-color: #d4ebff;}#sk-container-id-2 div.sk-label input.sk-toggleable__control:checked~label.sk-toggleable__label {background-color: #d4ebff;}#sk-container-id-2 input.sk-hidden--visually {border: 0;clip: rect(1px 1px 1px 1px);clip: rect(1px, 1px, 1px, 1px);height: 1px;margin: -1px;overflow: hidden;padding: 0;position: absolute;width: 1px;}#sk-container-id-2 div.sk-estimator {font-family: monospace;background-color: #f0f8ff;border: 1px dotted black;border-radius: 0.25em;box-sizing: border-box;margin-bottom: 0.5em;}#sk-container-id-2 div.sk-estimator:hover {background-color: #d4ebff;}#sk-container-id-2 div.sk-parallel-item::after {content: \"\";width: 100%;border-bottom: 1px solid gray;flex-grow: 1;}#sk-container-id-2 div.sk-label:hover label.sk-toggleable__label {background-color: #d4ebff;}#sk-container-id-2 div.sk-serial::before {content: \"\";position: absolute;border-left: 1px solid gray;box-sizing: border-box;top: 0;bottom: 0;left: 50%;z-index: 0;}#sk-container-id-2 div.sk-serial {display: flex;flex-direction: column;align-items: center;background-color: white;padding-right: 0.2em;padding-left: 0.2em;position: relative;}#sk-container-id-2 div.sk-item {position: relative;z-index: 1;}#sk-container-id-2 div.sk-parallel {display: flex;align-items: stretch;justify-content: center;background-color: white;position: relative;}#sk-container-id-2 div.sk-item::before, #sk-container-id-2 div.sk-parallel-item::before {content: \"\";position: absolute;border-left: 1px solid gray;box-sizing: border-box;top: 0;bottom: 0;left: 50%;z-index: -1;}#sk-container-id-2 div.sk-parallel-item {display: flex;flex-direction: column;z-index: 1;position: relative;background-color: white;}#sk-container-id-2 div.sk-parallel-item:first-child::after {align-self: flex-end;width: 50%;}#sk-container-id-2 div.sk-parallel-item:last-child::after {align-self: flex-start;width: 50%;}#sk-container-id-2 div.sk-parallel-item:only-child::after {width: 0;}#sk-container-id-2 div.sk-dashed-wrapped {border: 1px dashed gray;margin: 0 0.4em 0.5em 0.4em;box-sizing: border-box;padding-bottom: 0.4em;background-color: white;}#sk-container-id-2 div.sk-label label {font-family: monospace;font-weight: bold;display: inline-block;line-height: 1.2em;}#sk-container-id-2 div.sk-label-container {text-align: center;}#sk-container-id-2 div.sk-container {/* jupyter's `normalize.less` sets `[hidden] { display: none; }` but bootstrap.min.css set `[hidden] { display: none !important; }` so we also need the `!important` here to be able to override the default hidden behavior on the sphinx rendered scikit-learn.org. See: https://github.com/scikit-learn/scikit-learn/issues/21755 */display: inline-block !important;position: relative;}#sk-container-id-2 div.sk-text-repr-fallback {display: none;}</style><div id=\"sk-container-id-2\" class=\"sk-top-container\"><div class=\"sk-text-repr-fallback\"><pre>GradientBoostingClassifier()</pre><b>In a Jupyter environment, please rerun this cell to show the HTML representation or trust the notebook. <br />On GitHub, the HTML representation is unable to render, please try loading this page with nbviewer.org.</b></div><div class=\"sk-container\" hidden><div class=\"sk-item\"><div class=\"sk-estimator sk-toggleable\"><input class=\"sk-toggleable__control sk-hidden--visually\" id=\"sk-estimator-id-2\" type=\"checkbox\" checked><label for=\"sk-estimator-id-2\" class=\"sk-toggleable__label sk-toggleable__label-arrow\">GradientBoostingClassifier</label><div class=\"sk-toggleable__content\"><pre>GradientBoostingClassifier()</pre></div></div></div></div></div>"
      ],
      "text/plain": [
       "GradientBoostingClassifier()"
      ]
     },
     "execution_count": 8,
     "metadata": {},
     "output_type": "execute_result"
    }
   ],
   "source": [
    "with open(\"gradient_boost_model.pkl\", \"rb\") as file:\n",
    "    gradient_boost_model = pickle.load(file)\n",
    "gradient_boost_model"
   ]
  },
  {
   "cell_type": "code",
   "execution_count": 9,
   "id": "3c656953-4d8d-46f4-bedd-96e6c5bf051b",
   "metadata": {},
   "outputs": [
    {
     "data": {
      "text/plain": [
       "<keras.src.engine.sequential.Sequential at 0x7fe8e6f42740>"
      ]
     },
     "execution_count": 9,
     "metadata": {},
     "output_type": "execute_result"
    }
   ],
   "source": [
    "nn_model = keras.models.load_model(\"keras_model.h5\")\n",
    "nn_model"
   ]
  },
  {
   "cell_type": "code",
   "execution_count": 22,
   "id": "08f04ac1-850a-4a39-adfc-ef9627936d9c",
   "metadata": {},
   "outputs": [
    {
     "data": {
      "text/html": [
       "\n",
       "        <iframe\n",
       "            width=\"100%\"\n",
       "            height=\"650\"\n",
       "            src=\"http://127.0.0.1:8050/\"\n",
       "            frameborder=\"0\"\n",
       "            allowfullscreen\n",
       "            \n",
       "        ></iframe>\n",
       "        "
      ],
      "text/plain": [
       "<IPython.lib.display.IFrame at 0x7fe8e44acf40>"
      ]
     },
     "metadata": {},
     "output_type": "display_data"
    }
   ],
   "source": [
    "gradient_boosting_model = joblib.load('gradient_boost_model.pkl')\n",
    "neural_networks_model = keras.models.load_model(\"keras_model.h5\")\n",
    "\n",
    "external_stylesheets = [dbc.themes.BOOTSTRAP]\n",
    "app = dash.Dash(__name__, external_stylesheets=external_stylesheets)\n",
    "\n",
    "# Define the app layout with input components and an output component\n",
    "app.layout = html.Div([\n",
    "    dcc.Input(id='input-feature', type='text', placeholder='Enter feature value'),\n",
    "    html.Div(id='output-prediction'),\n",
    "])\n",
    "\n",
    "# Define callback to make predictions using the loaded models\n",
    "@app.callback(\n",
    "    Output('output-prediction', 'children'),\n",
    "    Input('input-feature', 'value')\n",
    ")\n",
    "def make_predictions(input_value):\n",
    "    if input_value is not None and input_value.strip() != '':\n",
    "        # Convert the input to a float and make predictions\n",
    "        try:\n",
    "            input_value = float(input_value)\n",
    "            input_value = np.array([input_value]).reshape(1, 1)\n",
    "            prediction1 = gradient_boosting_model.predict(input_value)[0]\n",
    "            prediction2 = nn_model.predict(input_value)[0]\n",
    "            result = f'Model 1 Prediction: {prediction1}, Model 2 Prediction: {prediction2}'\n",
    "        except ValueError:\n",
    "            result = 'Invalid input. Please enter a valid number.'\n",
    "    else:\n",
    "        result = 'Enter a value'\n",
    "\n",
    "    return result\n",
    "\n",
    "# Run the app\n",
    "if __name__ == '__main__':\n",
    "    app.run_server(debug=True)"
   ]
  },
  {
   "cell_type": "code",
   "execution_count": 3,
   "id": "e233e97e-8ff2-4d38-8294-c47b70092286",
   "metadata": {},
   "outputs": [],
   "source": [
    "import dash\n",
    "import joblib\n",
    "import warnings\n",
    "import numpy as np\n",
    "from dash import html\n",
    "from dash import dcc\n",
    "from tensorflow import keras\n",
    "from dash import Input, Output\n",
    "\n",
    "warnings.filterwarnings(\"ignore\")\n",
    "\n",
    "# Load pre-trained machine learning models\n",
    "gradient_boosting_model = joblib.load('gradient_boost_model.pkl')\n",
    "neural_networks_model = keras.models.load_model(\"keras_model.h5\")\n",
    "\n",
    "external_stylesheets = ['https://stackpath.bootstrapcdn.com/bootstrap/4.5.2/css/bootstrap.min.css']\n",
    "app = dash.Dash(__name__, external_stylesheets=external_stylesheets)\n",
    "\n",
    "# Define the app layout with input components and an output component\n",
    "app.layout = html.Div([\n",
    "    # New input components for additional features\n",
    "    dcc.Input(id='input-hotel', type='text', placeholder='Enter Hotel type'),\n",
    "    dcc.Input(id='input-market-segment', type='text', placeholder='Enter Market Segment'),\n",
    "    dcc.Input(id='input-distribution-channel', type='text', placeholder='Enter Distribution Channel'),\n",
    "    dcc.Input(id='input-is-repeated-guest', type='text', placeholder='Enter Is Repeated Guest'),\n",
    "    dcc.Input(id='input-deposit-type', type='text', placeholder='Enter Deposit Type'),\n",
    "    dcc.Input(id='input-customer-type', type='text', placeholder='Enter Customer Type'),\n",
    "    dcc.Input(id='input-special-requests', type='text', placeholder='Enter Has Special Requests'),\n",
    "    dcc.Input(id='input-reserved-is-assigned', type='text', placeholder='Enter Reserved is Assigned'),\n",
    "    dcc.Input(id='input-agent-involved', type='text', placeholder='Enter Agent Involved'),\n",
    "    dcc.Input(id='input-days-in-waiting-list', type='number', placeholder='Enter Days in Waiting List'),\n",
    "\n",
    "    # Existing input component\n",
    "    dcc.Input(id='input-feature', type='text', placeholder='Enter feature value'),\n",
    "\n",
    "    # Output component\n",
    "    html.Div(id='output-prediction')\n",
    "])\n",
    "\n",
    "# Define callback to make predictions using the loaded models\n",
    "@app.callback(\n",
    "    Output('output-prediction', 'children'),\n",
    "    [\n",
    "        Input('input-hotel', 'value'),\n",
    "        Input('input-market-segment', 'value'),\n",
    "        Input('input-distribution-channel', 'value'),\n",
    "        Input('input-is-repeated-guest', 'value'),\n",
    "        Input('input-deposit-type', 'value'),\n",
    "        Input('input-customer-type', 'value'),\n",
    "        Input('input-special-requests', 'value'),\n",
    "        Input('input-reserved-is-assigned', 'value'),\n",
    "        Input('input-agent-involved', 'value'),\n",
    "        Input('input-days-in-waiting-list', 'value'),\n",
    "        Input('input-feature', 'value')\n",
    "    ]\n",
    ")\n",
    "def make_predictions(\n",
    "    hotel, market_segment, distribution_channel, is_repeated_guest,\n",
    "    deposit_type, customer_type, has_special_requests, reserved_is_assigned,\n",
    "    agent_involved, days_in_waiting_list, input_value\n",
    " ):\n",
    "    # Your prediction logic based on user input goes here\n",
    "    # You should use the values of the new inputs for your predictions\n",
    "\n",
    " if __name__ == '__main__':\n",
    "    app.run_server(port=8051, debug=True)\n"
   ]
  },
  {
   "cell_type": "code",
   "execution_count": null,
   "id": "2e4788a8-037e-46c3-b186-566d2ace6ee6",
   "metadata": {},
   "outputs": [],
   "source": []
  }
 ],
 "metadata": {
  "kernelspec": {
   "display_name": "Python (learn-env)",
   "language": "python",
   "name": "learn-env"
  },
  "language_info": {
   "codemirror_mode": {
    "name": "ipython",
    "version": 3
   },
   "file_extension": ".py",
   "mimetype": "text/x-python",
   "name": "python",
   "nbconvert_exporter": "python",
   "pygments_lexer": "ipython3",
   "version": "3.10.11"
  }
 },
 "nbformat": 4,
 "nbformat_minor": 5
}
