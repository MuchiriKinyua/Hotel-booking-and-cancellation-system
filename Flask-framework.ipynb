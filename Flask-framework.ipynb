{
 "cells": [
  {
   "cell_type": "code",
   "execution_count": 1,
   "metadata": {},
   "outputs": [],
   "source": [
    "import json\n",
    "import pickle\n",
    "import warnings\n",
    "warnings.filterwarnings(\"ignore\")\n",
    "from flask import Flask, request, jsonify\n",
    "from sklearn.metrics import confusion_matrix\n",
    "from sklearn.ensemble import RandomForestClassifier\n",
    "from sklearn.ensemble import GradientBoostingClassifier\n",
    "from keras import models\n",
    "from tensorflow import keras\n",
    "import logging"
   ]
  },
  {
   "cell_type": "code",
   "execution_count": 2,
   "metadata": {},
   "outputs": [],
   "source": [
    "with open(\"gradient_boost_model.pkl\", \"rb\") as file:\n",
    "    gradient_boost_model = pickle.load(file)"
   ]
  },
  {
   "cell_type": "code",
   "execution_count": 3,
   "metadata": {},
   "outputs": [],
   "source": [
    "with open(\"random_forest_model.pkl\", \"rb\") as file:\n",
    "    random_forest_model = pickle.load(file)"
   ]
  },
  {
   "cell_type": "code",
   "execution_count": 4,
   "metadata": {},
   "outputs": [
    {
     "data": {
      "text/plain": [
       "<keras.src.engine.sequential.Sequential at 0x22b05ff8430>"
      ]
     },
     "execution_count": 4,
     "metadata": {},
     "output_type": "execute_result"
    }
   ],
   "source": [
    "nn_model = keras.models.load_model(\"keras_model.h5\")\n",
    "nn_model"
   ]
  },
  {
   "cell_type": "code",
   "execution_count": 5,
   "metadata": {},
   "outputs": [
    {
     "name": "stdout",
     "output_type": "stream",
     "text": [
      "Note: you may need to restart the kernel to use updated packages.Requirement already satisfied: flask in c:\\users\\lynn\\anaconda3\\envs\\learn-env\\lib\\site-packages (3.0.0)\n",
      "Requirement already satisfied: Jinja2>=3.1.2 in c:\\users\\lynn\\anaconda3\\envs\\learn-env\\lib\\site-packages (from flask) (3.1.2)\n",
      "Requirement already satisfied: Werkzeug>=3.0.0 in c:\\users\\lynn\\anaconda3\\envs\\learn-env\\lib\\site-packages (from flask) (3.0.0)\n",
      "Requirement already satisfied: click>=8.1.3 in c:\\users\\lynn\\anaconda3\\envs\\learn-env\\lib\\site-packages (from flask) (8.1.7)\n",
      "Requirement already satisfied: blinker>=1.6.2 in c:\\users\\lynn\\anaconda3\\envs\\learn-env\\lib\\site-packages (from flask) (1.6.3)\n",
      "Requirement already satisfied: itsdangerous>=2.1.2 in c:\\users\\lynn\\anaconda3\\envs\\learn-env\\lib\\site-packages (from flask) (2.1.2)\n",
      "Requirement already satisfied: colorama in c:\\users\\lynn\\anaconda3\\envs\\learn-env\\lib\\site-packages (from click>=8.1.3->flask) (0.4.6)\n",
      "Requirement already satisfied: MarkupSafe>=2.0 in c:\\users\\lynn\\anaconda3\\envs\\learn-env\\lib\\site-packages (from Jinja2>=3.1.2->flask) (2.1.1)\n",
      "\n"
     ]
    }
   ],
   "source": [
    "pip install flask"
   ]
  },
  {
   "cell_type": "markdown",
   "metadata": {},
   "source": [
    "The '/' route returns a welcome message when you access the root URL.\n",
    "The '/predict' route is designed to receive a POST request with a JSON payload containing features for prediction. It then uses the loaded machine learning models to make predictions based on the provided features.\n",
    "\n",
    "Logging is crucial for monitoring and troubleshooting in a web application. It provides a record of events, such as received features and predictions, aiding in understanding the application's behavior and diagnosing issues effectively."
   ]
  },
  {
   "cell_type": "code",
   "execution_count": 20,
   "metadata": {},
   "outputs": [],
   "source": [
    "\n",
    "app = Flask(\"hotel_recommendation_system\")\n",
    "\n",
    "# Load your Random Forest model\n",
    "with open(\"random_forest_model.pkl\", \"rb\") as file:\n",
    "    random_forest_model = pickle.load(file)\n",
    "\n",
    "# Configure logging\n",
    "logging.basicConfig(filename='app.log', level=logging.INFO, format='%(asctime)s - %(levelname)s - %(message)s')\n",
    "\n",
    "@app.route('/', methods=['GET'])\n",
    "def index():\n",
    "    return 'Hello, welcome to Hotel booking platform'\n",
    "\n",
    "@app.route('/predict', methods=['POST'])\n",
    "def predict():\n",
    "    try:\n",
    "        # Get the request data from the user in JSON format\n",
    "        request_json = request.get_json()\n",
    "\n",
    "        #Define the input features\n",
    "        features = {\n",
    "            \"lead_time\": 30,\n",
    "            \"stays_in_week_nights\": 3,\n",
    "            \"distribution_channel\": \"Online\"\n",
    "            }\n",
    "\n",
    "        # Extract features from the request data\n",
    "        features = request_json[\"features\"]\n",
    "        # Log the received features\n",
    "        logging.info(f\"Received features: {features}\")\n",
    "\n",
    "        # Make predictions using all three models\n",
    "        features_array = np.array(features).reshape(1, -1)\n",
    "        rf_prediction = random_forest_model.predict(features_array)[0]\n",
    "        xgb_prediction = gradient_boost_model.predict(features_array)[0]\n",
    "        nn_prediction = nn_model.predict(features_array)[0][0]\n",
    "\n",
    "        # Log the prediction\n",
    "        logging.info(f\"Prediction: {prediction}\")\n",
    "\n",
    "        # Return the results as a JSON response\n",
    "        return jsonify({\n",
    "            \"random_forest_prediction\": int(rf_prediction),\n",
    "            \"xgboost_prediction\": int(xgb_prediction),\n",
    "            \"neural_network_prediction\": float(nn_prediction)\n",
    "        })\n",
    "\n",
    "    except Exception as e:\n",
    "        # Log the error\n",
    "        logging.error(f\"Error: {str(e)}\")\n",
    "        return jsonify({'error': str(e)})\n",
    "\n",
    "if \"hotel_recommendation_system\" == '_main_':\n",
    "    app.run(port=5000, debug=True)"
   ]
  },
  {
   "cell_type": "code",
   "execution_count": null,
   "metadata": {},
   "outputs": [],
   "source": []
  },
  {
   "cell_type": "code",
   "execution_count": 7,
   "metadata": {},
   "outputs": [],
   "source": [
    "@app.route('/get_url', methods=['GET'])\n",
    "def get_url():\n",
    "    # Get the base URL of the application\n",
    "    base_url = request.base_url\n",
    "\n",
    "    return jsonify({\"url\": base_url}) \n",
    " "
   ]
  },
  {
   "cell_type": "code",
   "execution_count": 8,
   "metadata": {},
   "outputs": [
    {
     "data": {
      "text/plain": [
       "<function __main__.get_url()>"
      ]
     },
     "execution_count": 8,
     "metadata": {},
     "output_type": "execute_result"
    }
   ],
   "source": [
    "get_url"
   ]
  },
  {
   "cell_type": "code",
   "execution_count": 9,
   "metadata": {},
   "outputs": [
    {
     "ename": "RuntimeError",
     "evalue": "Working outside of request context.\n\nThis typically means that you attempted to use functionality that needed\nan active HTTP request. Consult the documentation on testing for\ninformation about how to avoid this problem.",
     "output_type": "error",
     "traceback": [
      "\u001b[1;31m---------------------------------------------------------------------------\u001b[0m",
      "\u001b[1;31mRuntimeError\u001b[0m                              Traceback (most recent call last)",
      "Cell \u001b[1;32mIn[9], line 2\u001b[0m\n\u001b[0;32m      1\u001b[0m \u001b[38;5;66;03m# Make a POST request to predict using the Flask app\u001b[39;00m\n\u001b[1;32m----> 2\u001b[0m response \u001b[38;5;241m=\u001b[39m \u001b[43mrequest\u001b[49m\u001b[38;5;241;43m.\u001b[39;49m\u001b[43mpost\u001b[49m(\u001b[38;5;124m\"\u001b[39m\u001b[38;5;124mhttp://localhost:5000/predict_random_forest\u001b[39m\u001b[38;5;124m\"\u001b[39m, json\u001b[38;5;241m=\u001b[39m{\u001b[38;5;124m\"\u001b[39m\u001b[38;5;124mfeatures\u001b[39m\u001b[38;5;124m\"\u001b[39m: features})\n\u001b[0;32m      4\u001b[0m \u001b[38;5;66;03m# Print the prediction results\u001b[39;00m\n\u001b[0;32m      5\u001b[0m \u001b[38;5;28mprint\u001b[39m(response\u001b[38;5;241m.\u001b[39mjson())\n",
      "File \u001b[1;32m~\\anaconda3\\envs\\learn-env\\lib\\site-packages\\werkzeug\\local.py:311\u001b[0m, in \u001b[0;36m_ProxyLookup.__get__\u001b[1;34m(self, instance, owner)\u001b[0m\n\u001b[0;32m    308\u001b[0m     \u001b[38;5;28;01mreturn\u001b[39;00m \u001b[38;5;28mself\u001b[39m\n\u001b[0;32m    310\u001b[0m \u001b[38;5;28;01mtry\u001b[39;00m:\n\u001b[1;32m--> 311\u001b[0m     obj \u001b[38;5;241m=\u001b[39m \u001b[43minstance\u001b[49m\u001b[38;5;241;43m.\u001b[39;49m\u001b[43m_get_current_object\u001b[49m\u001b[43m(\u001b[49m\u001b[43m)\u001b[49m\n\u001b[0;32m    312\u001b[0m \u001b[38;5;28;01mexcept\u001b[39;00m \u001b[38;5;167;01mRuntimeError\u001b[39;00m:\n\u001b[0;32m    313\u001b[0m     \u001b[38;5;28;01mif\u001b[39;00m \u001b[38;5;28mself\u001b[39m\u001b[38;5;241m.\u001b[39mfallback \u001b[38;5;129;01mis\u001b[39;00m \u001b[38;5;28;01mNone\u001b[39;00m:\n",
      "File \u001b[1;32m~\\anaconda3\\envs\\learn-env\\lib\\site-packages\\werkzeug\\local.py:508\u001b[0m, in \u001b[0;36mLocalProxy.__init__.<locals>._get_current_object\u001b[1;34m()\u001b[0m\n\u001b[0;32m    506\u001b[0m     obj \u001b[38;5;241m=\u001b[39m local\u001b[38;5;241m.\u001b[39mget()\n\u001b[0;32m    507\u001b[0m \u001b[38;5;28;01mexcept\u001b[39;00m \u001b[38;5;167;01mLookupError\u001b[39;00m:\n\u001b[1;32m--> 508\u001b[0m     \u001b[38;5;28;01mraise\u001b[39;00m \u001b[38;5;167;01mRuntimeError\u001b[39;00m(unbound_message) \u001b[38;5;28;01mfrom\u001b[39;00m \u001b[38;5;28;01mNone\u001b[39;00m\n\u001b[0;32m    510\u001b[0m \u001b[38;5;28;01mreturn\u001b[39;00m get_name(obj)\n",
      "\u001b[1;31mRuntimeError\u001b[0m: Working outside of request context.\n\nThis typically means that you attempted to use functionality that needed\nan active HTTP request. Consult the documentation on testing for\ninformation about how to avoid this problem."
     ]
    }
   ],
   "source": [
    "# Make a POST request to predict using the Flask app\n",
    "response = request.post(\"http://localhost:5000/predict_random_forest\", json={\"features\": features})\n",
    "\n",
    "# Print the prediction results\n",
    "print(response.json())"
   ]
  },
  {
   "cell_type": "code",
   "execution_count": 17,
   "metadata": {},
   "outputs": [],
   "source": [
    "from app import app  # Import your Flask app\n",
    "from flask.testing import FlaskClient\n",
    "\n",
    "client = FlaskClient(app)\n",
    "features = {\n",
    "            \"lead_time\": 30,\n",
    "            \"stays_in_week_nights\": 3,\n",
    "            \"distribution_channel\": \"Online\"\n",
    "            }\n",
    "\n",
    "# Now, use the client to make requests:\n",
    "response = client.post(\"/predict\", json={\"features\": features})\n"
   ]
  },
  {
   "cell_type": "code",
   "execution_count": 21,
   "metadata": {},
   "outputs": [
    {
     "ename": "NameError",
     "evalue": "name 'nn_prediction' is not defined",
     "output_type": "error",
     "traceback": [
      "\u001b[1;31m---------------------------------------------------------------------------\u001b[0m",
      "\u001b[1;31mNameError\u001b[0m                                 Traceback (most recent call last)",
      "Cell \u001b[1;32mIn[21], line 1\u001b[0m\n\u001b[1;32m----> 1\u001b[0m \u001b[38;5;28mprint\u001b[39m(\u001b[43mnn_prediction\u001b[49m)\n",
      "\u001b[1;31mNameError\u001b[0m: name 'nn_prediction' is not defined"
     ]
    }
   ],
   "source": [
    "print(nn_prediction)"
   ]
  },
  {
   "cell_type": "code",
   "execution_count": null,
   "metadata": {},
   "outputs": [],
   "source": [
    "%run app.py"
   ]
  }
 ],
 "metadata": {
  "kernelspec": {
   "display_name": "Python 3 (ipykernel)",
   "language": "python",
   "name": "python3"
  },
  "language_info": {
   "codemirror_mode": {
    "name": "ipython",
    "version": 3
   },
   "file_extension": ".py",
   "mimetype": "text/x-python",
   "name": "python",
   "nbconvert_exporter": "python",
   "pygments_lexer": "ipython3",
   "version": "3.10.11"
  }
 },
 "nbformat": 4,
 "nbformat_minor": 2
}
