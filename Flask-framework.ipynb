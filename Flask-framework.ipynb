{
 "cells": [
  {
   "cell_type": "code",
   "execution_count": 1,
   "metadata": {},
   "outputs": [
    {
     "name": "stderr",
     "output_type": "stream",
     "text": [
      "2023-10-13 17:55:39.494312: I tensorflow/tsl/cuda/cudart_stub.cc:28] Could not find cuda drivers on your machine, GPU will not be used.\n",
      "2023-10-13 17:55:43.064094: I tensorflow/tsl/cuda/cudart_stub.cc:28] Could not find cuda drivers on your machine, GPU will not be used.\n",
      "2023-10-13 17:55:43.072921: I tensorflow/core/platform/cpu_feature_guard.cc:182] This TensorFlow binary is optimized to use available CPU instructions in performance-critical operations.\n",
      "To enable the following instructions: AVX2 FMA, in other operations, rebuild TensorFlow with the appropriate compiler flags.\n",
      "2023-10-13 17:55:51.044419: W tensorflow/compiler/tf2tensorrt/utils/py_utils.cc:38] TF-TRT Warning: Could not find TensorRT\n"
     ]
    }
   ],
   "source": [
    "import json\n",
    "import pickle\n",
    "import logging\n",
    "import warnings\n",
    "warnings.filterwarnings(\"ignore\")\n",
    "from flask import Flask, request, jsonify\n",
    "from sklearn.metrics import confusion_matrix\n",
    "from sklearn.ensemble import RandomForestClassifier\n",
    "from sklearn.ensemble import GradientBoostingClassifier\n",
    "from keras import models\n",
    "from tensorflow import keras\n"
   ]
  },
  {
   "cell_type": "code",
   "execution_count": 2,
   "metadata": {},
   "outputs": [
    {
     "ename": "FileNotFoundError",
     "evalue": "[Errno 2] No such file or directory: 'gradient_boost_model.pkl'",
     "output_type": "error",
     "traceback": [
      "\u001b[0;31m---------------------------------------------------------------------------\u001b[0m",
      "\u001b[0;31mFileNotFoundError\u001b[0m                         Traceback (most recent call last)",
      "Cell \u001b[0;32mIn[2], line 1\u001b[0m\n\u001b[0;32m----> 1\u001b[0m \u001b[38;5;28;01mwith\u001b[39;00m \u001b[38;5;28;43mopen\u001b[39;49m\u001b[43m(\u001b[49m\u001b[38;5;124;43m\"\u001b[39;49m\u001b[38;5;124;43mgradient_boost_model.pkl\u001b[39;49m\u001b[38;5;124;43m\"\u001b[39;49m\u001b[43m,\u001b[49m\u001b[43m \u001b[49m\u001b[38;5;124;43m\"\u001b[39;49m\u001b[38;5;124;43mrb\u001b[39;49m\u001b[38;5;124;43m\"\u001b[39;49m\u001b[43m)\u001b[49m \u001b[38;5;28;01mas\u001b[39;00m file:\n\u001b[1;32m      2\u001b[0m     gradient_boost_model \u001b[38;5;241m=\u001b[39m pickle\u001b[38;5;241m.\u001b[39mload(file)\n",
      "File \u001b[0;32m~/.local/lib/python3.10/site-packages/IPython/core/interactiveshell.py:282\u001b[0m, in \u001b[0;36m_modified_open\u001b[0;34m(file, *args, **kwargs)\u001b[0m\n\u001b[1;32m    275\u001b[0m \u001b[38;5;28;01mif\u001b[39;00m file \u001b[38;5;129;01min\u001b[39;00m {\u001b[38;5;241m0\u001b[39m, \u001b[38;5;241m1\u001b[39m, \u001b[38;5;241m2\u001b[39m}:\n\u001b[1;32m    276\u001b[0m     \u001b[38;5;28;01mraise\u001b[39;00m \u001b[38;5;167;01mValueError\u001b[39;00m(\n\u001b[1;32m    277\u001b[0m         \u001b[38;5;124mf\u001b[39m\u001b[38;5;124m\"\u001b[39m\u001b[38;5;124mIPython won\u001b[39m\u001b[38;5;124m'\u001b[39m\u001b[38;5;124mt let you open fd=\u001b[39m\u001b[38;5;132;01m{\u001b[39;00mfile\u001b[38;5;132;01m}\u001b[39;00m\u001b[38;5;124m by default \u001b[39m\u001b[38;5;124m\"\u001b[39m\n\u001b[1;32m    278\u001b[0m         \u001b[38;5;124m\"\u001b[39m\u001b[38;5;124mas it is likely to crash IPython. If you know what you are doing, \u001b[39m\u001b[38;5;124m\"\u001b[39m\n\u001b[1;32m    279\u001b[0m         \u001b[38;5;124m\"\u001b[39m\u001b[38;5;124myou can use builtins\u001b[39m\u001b[38;5;124m'\u001b[39m\u001b[38;5;124m open.\u001b[39m\u001b[38;5;124m\"\u001b[39m\n\u001b[1;32m    280\u001b[0m     )\n\u001b[0;32m--> 282\u001b[0m \u001b[38;5;28;01mreturn\u001b[39;00m \u001b[43mio_open\u001b[49m\u001b[43m(\u001b[49m\u001b[43mfile\u001b[49m\u001b[43m,\u001b[49m\u001b[43m \u001b[49m\u001b[38;5;241;43m*\u001b[39;49m\u001b[43margs\u001b[49m\u001b[43m,\u001b[49m\u001b[43m \u001b[49m\u001b[38;5;241;43m*\u001b[39;49m\u001b[38;5;241;43m*\u001b[39;49m\u001b[43mkwargs\u001b[49m\u001b[43m)\u001b[49m\n",
      "\u001b[0;31mFileNotFoundError\u001b[0m: [Errno 2] No such file or directory: 'gradient_boost_model.pkl'"
     ]
    }
   ],
   "source": [
    "with open(\"gradient_boost_model.pkl\", \"rb\") as file:\n",
    "    gradient_boost_model = pickle.load(file)"
   ]
  },
  {
   "cell_type": "code",
   "execution_count": null,
   "metadata": {},
   "outputs": [],
   "source": [
    "with open(\"random_forest_model.pkl\", \"rb\") as file:\n",
    "    random_forest_model = pickle.load(file)"
   ]
  },
  {
   "cell_type": "code",
   "execution_count": null,
   "metadata": {},
   "outputs": [],
   "source": [
    "nn_model = keras.models.load_model(\"keras_model.h5\")\n",
    "nn_model"
   ]
  },
  {
   "cell_type": "code",
   "execution_count": null,
   "metadata": {},
   "outputs": [],
   "source": [
    "#pip install flask"
   ]
  },
  {
   "cell_type": "markdown",
   "metadata": {},
   "source": [
    "The '/' route returns a welcome message when you access the root URL.\n",
    "The '/predict' route is designed to receive a POST request with a JSON payload containing features for prediction. It then uses the loaded machine learning models to make predictions based on the provided features.\n",
    "\n",
    "Logging is crucial for monitoring and troubleshooting in a web application. It provides a record of events, such as received features and predictions, aiding in understanding the application's behavior and diagnosing issues effectively."
   ]
  },
  {
   "cell_type": "code",
   "execution_count": null,
   "metadata": {},
   "outputs": [],
   "source": [
    "\n",
    "app = Flask(\"hotel_recommendation_system\")\n",
    "\n",
    "# Load your Random Forest model\n",
    "with open(\"random_forest_model.pkl\", \"rb\") as file:\n",
    "    random_forest_data = pickle.load(file)\n",
    "\n",
    "# Configure logging\n",
    "logging.basicConfig(filename='app.log', level=logging.INFO, format='%(asctime)s - %(levelname)s - %(message)s')\n",
    "\n",
    "@app.route('/', methods=['GET'])\n",
    "def index():\n",
    "    return 'Hello, welcome to Hotel booking platform'\n",
    "\n",
    "@app.route('/predict', methods=['POST'])\n",
    "def predict():\n",
    "    try:\n",
    "        # Get the request data from the user in JSON format\n",
    "        request_json = request.get_json()\n",
    "\n",
    "        #Define the input features\n",
    "        features = {\n",
    "            \"lead_time\": 30,\n",
    "            \"stays_in_week_nights\": 3,\n",
    "            \"distribution_channel\": \"Online\"\n",
    "            }\n",
    "\n",
    "        # Extract features from the request data\n",
    "        features = request_json[\"features\"]\n",
    "        # Log the received features\n",
    "        logging.info(f\"Received features: {features}\")\n",
    "\n",
    "        # Make predictions using all three models\n",
    "        features_array = np.array(features).reshape(1, -1)\n",
    "        rf_prediction = random_forest_model.predict(features_array)[0]\n",
    "        xgb_prediction = gradient_boost_model.predict(features_array)[0]\n",
    "        nn_prediction = nn_model.predict(features_array)[0][0]\n",
    "\n",
    "        # Log the prediction\n",
    "        logging.info(f\"Prediction: {prediction}\")\n",
    "\n",
    "        # Return the results as a JSON response\n",
    "        return jsonify({\n",
    "            \"random_forest_prediction\": int(rf_prediction),\n",
    "            \"xgboost_prediction\": int(xgb_prediction),\n",
    "            \"neural_network_prediction\": float(nn_prediction)\n",
    "        })\n",
    "\n",
    "    except Exception as e:\n",
    "        # Log the error\n",
    "        logging.error(f\"Error: {str(e)}\")\n",
    "        return jsonify({'error': str(e)})\n",
    "\n",
    "if \"hotel_recommendation_system\" == '_main_':\n",
    "    app.run(port=5000, debug=True)"
   ]
  },
  {
   "cell_type": "code",
   "execution_count": null,
   "metadata": {},
   "outputs": [],
   "source": [
    "@app.route('/get_url', methods=['GET'])\n",
    "def get_url():\n",
    "    # Get the base URL of the application\n",
    "    base_url = request.base_url\n",
    "\n",
    "    return jsonify({\"url\": base_url}) \n",
    " "
   ]
  },
  {
   "cell_type": "code",
   "execution_count": null,
   "metadata": {},
   "outputs": [],
   "source": [
    "get_url"
   ]
  },
  {
   "cell_type": "code",
   "execution_count": null,
   "metadata": {},
   "outputs": [],
   "source": [
    "# Make a POST request to predict using the Flask app\n",
    "response = request.post(\"http://localhost:5000/predict_random_forest\", json={\"features\": features})\n",
    "\n",
    "# Print the prediction results\n",
    "print(response.json())"
   ]
  },
  {
   "cell_type": "code",
   "execution_count": null,
   "metadata": {},
   "outputs": [],
   "source": [
    "jupyter nbconvert --to script untitled.ipynb"
   ]
  },
  {
   "cell_type": "code",
   "execution_count": null,
   "metadata": {},
   "outputs": [],
   "source": [
    "%run app.py"
   ]
  },
  {
   "cell_type": "code",
   "execution_count": null,
   "metadata": {},
   "outputs": [],
   "source": [
    "# Assuming you have loaded your Gradient Boosting and Random Forest models\n",
    "# Replace these placeholders with your actual models\n",
    "gradient_boosting_model = gradient_boost_data\n",
    "neural_networks_model = model\n",
    "random_forest_model = random_forest_data\n",
    "\n",
    "# Your prediction function\n",
    "def hotel_prediction(features, model):\n",
    "    # Replace this with your actual prediction logic\n",
    "    # It should take the features and return the prediction\n",
    "    # Example:\n",
    "    # prediction = model.predict(features)\n",
    "    prediction = \"Replace with actual prediction logic\"\n",
    "    return {\"prediction\": prediction}\n",
    "\n",
    "# Routes\n",
    "@app.route('/', methods=['GET'])\n",
    "def index():\n",
    "    return 'Hello, welcome to Hotel booking platform'\n",
    "\n",
    "@app.route('/predict_gradient_boosting', methods=['POST'])\n",
    "def predict_gradient_boosting():\n",
    "    try:\n",
    "        # Get the request data from the user in JSON format\n",
    "        request_json = request.get_json()\n",
    "\n",
    "        # Send it to the Gradient Boosting prediction function\n",
    "        result = hotel_prediction(request_json[\"features\"], gradient_boosting_model)\n",
    "\n",
    "        # Return the result as a JSON response\n",
    "        return jsonify(result)\n",
    "\n",
    "    except Exception as e:\n",
    "        return jsonify({'error': str(e)})\n",
    "    \n",
    "@app.route('/predict_neural_networks', methods=['POST'])\n",
    "def predict_neural_networks():\n",
    "    try:\n",
    "        # Get the request data from the user in JSON format\n",
    "        request_json = request.get_json()\n",
    "\n",
    "        # Send it to the Gradient Boosting prediction function\n",
    "        result = hotel_prediction(request_json[\"features\"],neural_networks_model)\n",
    "\n",
    "        # Return the result as a JSON response\n",
    "        return jsonify(result)\n",
    "\n",
    "    except Exception as e:\n",
    "        return jsonify({'error': str(e)})\n",
    "\n",
    "@app.route('/predict_random_forest', methods=['POST'])\n",
    "def predict_random_forest():\n",
    "    try:\n",
    "        # Get the request data from the user in JSON format\n",
    "        request_json = request.get_json()\n",
    "\n",
    "        # Send it to the Random Forest prediction function\n",
    "        result = hotel_prediction(request_json[\"features\"], random_forest_model)\n",
    "\n",
    "        # Return the result as a JSON response\n",
    "        return jsonify(result)\n",
    "\n",
    "    except Exception as e:\n",
    "        return jsonify({'error': str(e)})\n",
    "\n",
    "if _name_ == '_main_':\n",
    "    app.run(debug=True)\n"
   ]
  }
 ],
 "metadata": {
  "kernelspec": {
   "display_name": "Python (learn-env)",
   "language": "python",
   "name": "learn-env"
  },
  "language_info": {
   "codemirror_mode": {
    "name": "ipython",
    "version": 3
   },
   "file_extension": ".py",
   "mimetype": "text/x-python",
   "name": "python",
   "nbconvert_exporter": "python",
   "pygments_lexer": "ipython3",
   "version": "3.10.11"
  }
 },
 "nbformat": 4,
 "nbformat_minor": 4
}
