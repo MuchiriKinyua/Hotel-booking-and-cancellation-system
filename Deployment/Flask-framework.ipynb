{
 "cells": [
  {
   "cell_type": "code",
   "execution_count": 2,
   "metadata": {},
   "outputs": [],
   "source": [
    "import json\n",
    "import pickle\n",
    "import logging\n",
    "import requests\n",
    "import warnings\n",
    "from app import app\n",
    "from keras import models\n",
    "from tensorflow import keras\n",
    "warnings.filterwarnings(\"ignore\")\n",
    "from flask.testing import FlaskClient\n",
    "from flask import Flask, request, jsonify\n",
    "from sklearn.metrics import confusion_matrix\n",
    "from sklearn.ensemble import GradientBoostingClassifier"
   ]
  },
  {
   "cell_type": "code",
   "execution_count": 3,
   "metadata": {},
   "outputs": [
    {
     "data": {
      "text/html": [
       "<style>#sk-container-id-1 {color: black;background-color: white;}#sk-container-id-1 pre{padding: 0;}#sk-container-id-1 div.sk-toggleable {background-color: white;}#sk-container-id-1 label.sk-toggleable__label {cursor: pointer;display: block;width: 100%;margin-bottom: 0;padding: 0.3em;box-sizing: border-box;text-align: center;}#sk-container-id-1 label.sk-toggleable__label-arrow:before {content: \"▸\";float: left;margin-right: 0.25em;color: #696969;}#sk-container-id-1 label.sk-toggleable__label-arrow:hover:before {color: black;}#sk-container-id-1 div.sk-estimator:hover label.sk-toggleable__label-arrow:before {color: black;}#sk-container-id-1 div.sk-toggleable__content {max-height: 0;max-width: 0;overflow: hidden;text-align: left;background-color: #f0f8ff;}#sk-container-id-1 div.sk-toggleable__content pre {margin: 0.2em;color: black;border-radius: 0.25em;background-color: #f0f8ff;}#sk-container-id-1 input.sk-toggleable__control:checked~div.sk-toggleable__content {max-height: 200px;max-width: 100%;overflow: auto;}#sk-container-id-1 input.sk-toggleable__control:checked~label.sk-toggleable__label-arrow:before {content: \"▾\";}#sk-container-id-1 div.sk-estimator input.sk-toggleable__control:checked~label.sk-toggleable__label {background-color: #d4ebff;}#sk-container-id-1 div.sk-label input.sk-toggleable__control:checked~label.sk-toggleable__label {background-color: #d4ebff;}#sk-container-id-1 input.sk-hidden--visually {border: 0;clip: rect(1px 1px 1px 1px);clip: rect(1px, 1px, 1px, 1px);height: 1px;margin: -1px;overflow: hidden;padding: 0;position: absolute;width: 1px;}#sk-container-id-1 div.sk-estimator {font-family: monospace;background-color: #f0f8ff;border: 1px dotted black;border-radius: 0.25em;box-sizing: border-box;margin-bottom: 0.5em;}#sk-container-id-1 div.sk-estimator:hover {background-color: #d4ebff;}#sk-container-id-1 div.sk-parallel-item::after {content: \"\";width: 100%;border-bottom: 1px solid gray;flex-grow: 1;}#sk-container-id-1 div.sk-label:hover label.sk-toggleable__label {background-color: #d4ebff;}#sk-container-id-1 div.sk-serial::before {content: \"\";position: absolute;border-left: 1px solid gray;box-sizing: border-box;top: 0;bottom: 0;left: 50%;z-index: 0;}#sk-container-id-1 div.sk-serial {display: flex;flex-direction: column;align-items: center;background-color: white;padding-right: 0.2em;padding-left: 0.2em;position: relative;}#sk-container-id-1 div.sk-item {position: relative;z-index: 1;}#sk-container-id-1 div.sk-parallel {display: flex;align-items: stretch;justify-content: center;background-color: white;position: relative;}#sk-container-id-1 div.sk-item::before, #sk-container-id-1 div.sk-parallel-item::before {content: \"\";position: absolute;border-left: 1px solid gray;box-sizing: border-box;top: 0;bottom: 0;left: 50%;z-index: -1;}#sk-container-id-1 div.sk-parallel-item {display: flex;flex-direction: column;z-index: 1;position: relative;background-color: white;}#sk-container-id-1 div.sk-parallel-item:first-child::after {align-self: flex-end;width: 50%;}#sk-container-id-1 div.sk-parallel-item:last-child::after {align-self: flex-start;width: 50%;}#sk-container-id-1 div.sk-parallel-item:only-child::after {width: 0;}#sk-container-id-1 div.sk-dashed-wrapped {border: 1px dashed gray;margin: 0 0.4em 0.5em 0.4em;box-sizing: border-box;padding-bottom: 0.4em;background-color: white;}#sk-container-id-1 div.sk-label label {font-family: monospace;font-weight: bold;display: inline-block;line-height: 1.2em;}#sk-container-id-1 div.sk-label-container {text-align: center;}#sk-container-id-1 div.sk-container {/* jupyter's `normalize.less` sets `[hidden] { display: none; }` but bootstrap.min.css set `[hidden] { display: none !important; }` so we also need the `!important` here to be able to override the default hidden behavior on the sphinx rendered scikit-learn.org. See: https://github.com/scikit-learn/scikit-learn/issues/21755 */display: inline-block !important;position: relative;}#sk-container-id-1 div.sk-text-repr-fallback {display: none;}</style><div id=\"sk-container-id-1\" class=\"sk-top-container\"><div class=\"sk-text-repr-fallback\"><pre>GradientBoostingClassifier()</pre><b>In a Jupyter environment, please rerun this cell to show the HTML representation or trust the notebook. <br />On GitHub, the HTML representation is unable to render, please try loading this page with nbviewer.org.</b></div><div class=\"sk-container\" hidden><div class=\"sk-item\"><div class=\"sk-estimator sk-toggleable\"><input class=\"sk-toggleable__control sk-hidden--visually\" id=\"sk-estimator-id-1\" type=\"checkbox\" checked><label for=\"sk-estimator-id-1\" class=\"sk-toggleable__label sk-toggleable__label-arrow\">GradientBoostingClassifier</label><div class=\"sk-toggleable__content\"><pre>GradientBoostingClassifier()</pre></div></div></div></div></div>"
      ],
      "text/plain": [
       "GradientBoostingClassifier()"
      ]
     },
     "execution_count": 3,
     "metadata": {},
     "output_type": "execute_result"
    }
   ],
   "source": [
    "with open(\"gradient_boost_model.pkl\", \"rb\") as file:\n",
    "    gradient_boost_model = pickle.load(file)\n",
    "gradient_boost_model"
   ]
  },
  {
   "cell_type": "code",
   "execution_count": 4,
   "metadata": {},
   "outputs": [
    {
     "data": {
      "text/plain": [
       "<keras.src.engine.sequential.Sequential at 0x7fbf8d456500>"
      ]
     },
     "execution_count": 4,
     "metadata": {},
     "output_type": "execute_result"
    }
   ],
   "source": [
    "nn_model = keras.models.load_model(\"keras_model.h5\")\n",
    "nn_model"
   ]
  },
  {
   "cell_type": "markdown",
   "metadata": {},
   "source": [
    "The '/' route returns a welcome message when you access the root URL.\n",
    "The '/predict' route is designed to receive a POST request with a JSON payload containing features for prediction. It then uses the loaded machine learning models to make predictions based on the provided features.\n",
    "\n",
    "Logging is crucial for monitoring and troubleshooting in a web application. It provides a record of events, such as received features and predictions, aiding in understanding the application's behavior and diagnosing issues effectively."
   ]
  },
  {
   "cell_type": "code",
   "execution_count": 5,
   "metadata": {},
   "outputs": [],
   "source": [
    "app = Flask(\"app\")\n",
    "\n",
    "# Configure logging\n",
    "logging.basicConfig(filename='app.log', level=logging.INFO, format='%(asctime)s - %(levelname)s - %(message)s')\n",
    "\n",
    "@app.route('/', methods=['GET'])\n",
    "def index():\n",
    "    return 'Hello, welcome to Hotel booking platform'\n",
    "\n",
    "@app.route('/predict', methods=['POST'])\n",
    "def predict():\n",
    "    try:\n",
    "        # Get the request data from the user in JSON format\n",
    "        request_json = request.get_json()\n",
    "\n",
    "        #Define the input features\n",
    "        features = {\n",
    "            \"lead_time\": 30,\n",
    "            \"stays_in_week_nights\": 3,\n",
    "            \"distribution_channel\": \"Online\"\n",
    "            }\n",
    "\n",
    "        # Extract features from the request data\n",
    "        features = request_json[\"features\"]\n",
    "        # Log the received features\n",
    "        logging.info(f\"Received features: {features}\")\n",
    "\n",
    "        # Make predictions using all three models\n",
    "        features_array = np.array(features).reshape(1, -1)\n",
    "        xgb_prediction = gradient_boost_model.predict(features_array)[0]\n",
    "        nn_prediction = nn_model.predict(features_array)[0][0]\n",
    "\n",
    "        # Log the prediction\n",
    "        logging.info(f\"Prediction: {prediction}\")\n",
    "\n",
    "        # Return the results as a JSON response\n",
    "        return jsonify({\n",
    "            \"xgboost_prediction\": int(xgb_prediction),\n",
    "            \"neural_network_prediction\": float(nn_prediction)\n",
    "        })\n",
    "\n",
    "    except Exception as e:\n",
    "        # Log the error\n",
    "        logging.error(f\"Error: {str(e)}\")\n",
    "        return jsonify({'error': str(e)})\n",
    "\n",
    "if \"app\" == '_main_':\n",
    "    app.run(port=5000, debug=True)"
   ]
  },
  {
   "cell_type": "code",
   "execution_count": 6,
   "metadata": {},
   "outputs": [],
   "source": [
    "@app.route('/get_url', methods=['GET'])\n",
    "def get_url():\n",
    "    # Get the base URL of the application\n",
    "    base_url = request.base_url\n",
    "\n",
    "    return jsonify({\"url\": base_url})  "
   ]
  },
  {
   "cell_type": "code",
   "execution_count": 7,
   "metadata": {},
   "outputs": [
    {
     "data": {
      "text/plain": [
       "<function __main__.get_url()>"
      ]
     },
     "execution_count": 7,
     "metadata": {},
     "output_type": "execute_result"
    }
   ],
   "source": [
    "get_url"
   ]
  },
  {
   "cell_type": "code",
   "execution_count": 10,
   "metadata": {},
   "outputs": [
    {
     "name": "stdout",
     "output_type": "stream",
     "text": [
      "{'error': \"float() argument must be a string or a real number, not 'dict'\"}\n",
      "{'error': 'Failed to find data adapter that can handle input: (<class \\'dict\\'> containing {\"<class \\'str\\'>\"} keys and {\"<class \\'str\\'>\", \"<class \\'int\\'>\"} values), <class \\'NoneType\\'>'}\n"
     ]
    }
   ],
   "source": [
    "# Define individual features\n",
    "lead_time = 30\n",
    "stays_in_week_nights = 3\n",
    "distribution_channel = \"Online\"\n",
    "\n",
    "response = requests.post(\"http://127.0.0.1:5000/predict_gradient_boost\", json={\n",
    "    \"features\": {\n",
    "        \"lead_time\": lead_time,\n",
    "        \"stays_in_week_nights\": stays_in_week_nights,\n",
    "        \"distribution_channel\": distribution_channel\n",
    "    }\n",
    "})\n",
    "\n",
    "# Print the prediction results\n",
    "print(response.json())\n",
    "\n",
    "response = requests.post(\"http://127.0.0.1:5000/predict_neural_networks\", json={\n",
    "    \"features\": {\n",
    "        \"lead_time\": lead_time,\n",
    "        \"stays_in_week_nights\": stays_in_week_nights,\n",
    "        \"distribution_channel\": distribution_channel\n",
    "    }\n",
    "})\n",
    "\n",
    "# Print the prediction results\n",
    "print(response.json())"
   ]
  },
  {
   "cell_type": "code",
   "execution_count": 11,
   "metadata": {},
   "outputs": [],
   "source": [
    "client = FlaskClient(app)\n",
    "features = {\n",
    "            \"lead_time\": 30,\n",
    "            \"stays_in_week_nights\": 3,\n",
    "            \"distribution_channel\": \"Online\"\n",
    "            }\n",
    "\n",
    "# Now, use the client to make requests:\n",
    "response = client.post(\"/predict\", json={\"features\": features})"
   ]
  },
  {
   "cell_type": "code",
   "execution_count": 12,
   "metadata": {},
   "outputs": [
    {
     "name": "stdout",
     "output_type": "stream",
     "text": [
      "{'error': \"'features'\"}\n"
     ]
    }
   ],
   "source": [
    " # Create a test client\n",
    "client = FlaskClient(app)\n",
    "\n",
    "# Specify the features individually\n",
    "lead_time = 30\n",
    "stays_in_week_nights = 3\n",
    "distribution_channel = \"Online\"\n",
    "\n",
    "# Make a POST request to the /predict endpoint\n",
    "response = client.post(\"/predict\", json={\n",
    "    \"lead_time\": lead_time,\n",
    "    \"stays_in_week_nights\": stays_in_week_nights,\n",
    "    \"distribution_channel\": distribution_channel\n",
    "})\n",
    "\n",
    "# Access the response data\n",
    "response_data = response.get_json()\n",
    "\n",
    "# Print the prediction results\n",
    "print(response_data)"
   ]
  }
 ],
 "metadata": {
  "kernelspec": {
   "display_name": "Python (learn-env)",
   "language": "python",
   "name": "learn-env"
  },
  "language_info": {
   "codemirror_mode": {
    "name": "ipython",
    "version": 3
   },
   "file_extension": ".py",
   "mimetype": "text/x-python",
   "name": "python",
   "nbconvert_exporter": "python",
   "pygments_lexer": "ipython3",
   "version": "3.10.11"
  }
 },
 "nbformat": 4,
 "nbformat_minor": 4
}
